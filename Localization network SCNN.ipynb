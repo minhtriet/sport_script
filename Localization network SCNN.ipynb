{
 "cells": [
  {
   "cell_type": "markdown",
   "metadata": {},
   "source": [
    "### Generate data for scnn_localization\n",
    "- Load frames\n",
    "- Check if frames lies in the folder\n",
    "- Compute IOU\n",
    "\n",
    "### Doubt\n",
    "Do I calculate bg, according to the paper no needed on https://arxiv.org/abs/1601.02129 3.1\n"
   ]
  },
  {
   "cell_type": "code",
   "execution_count": 2,
   "metadata": {},
   "outputs": [
    {
     "ename": "IndentationError",
     "evalue": "expected an indented block (<ipython-input-2-2c4b61463f1d>, line 14)",
     "output_type": "error",
     "traceback": [
      "\u001b[0;36m  File \u001b[0;32m\"<ipython-input-2-2c4b61463f1d>\"\u001b[0;36m, line \u001b[0;32m14\u001b[0m\n\u001b[0;31m    # if smallest\u001b[0m\n\u001b[0m                  ^\u001b[0m\n\u001b[0;31mIndentationError\u001b[0m\u001b[0;31m:\u001b[0m expected an indented block\n"
     ]
    }
   ],
   "source": [
    "import os\n",
    "import numpy as np\n",
    "\n",
    "WINDOW_SIZE = 8\n",
    "\n",
    "def check_frame(check_path, solution_path, window_size):\n",
    "    solution_frames = np.array(os.listdir(check_path).sort())\n",
    "    solution_frames = np.array(os.listdir(solution_path).sort())\n",
    "\n",
    "# loop through frames\n",
    "\n",
    "for frame_root, sub_folder, sub_files in os.walk(FRAME_PATH):\n",
    "    \n",
    "# if smallest "
   ]
  },
  {
   "cell_type": "code",
   "execution_count": 2,
   "metadata": {
    "collapsed": true
   },
   "outputs": [],
   "source": [
    "import pdb\n",
    "import os\n",
    "\n",
    "FRAME_PATH = \"/media/data/mtriet/dataset/fb_frames_scnn_localization\"\n",
    "for frame_root, sub_folder, sub_files in os.walk(FRAME_PATH):\n",
    "    pdb.set_trace()\n",
    "    for folder in sub_folder:        \n",
    "        with open('%s.aqt', sub_folder) as f:\n",
    "            os.path.listdir(folder)\n",
    "        "
   ]
  },
  {
   "cell_type": "code",
   "execution_count": 28,
   "metadata": {},
   "outputs": [],
   "source": [
    "import matplotlib.pyplot as plt\n",
    "import numpy as np\n",
    "import matplotlib.transforms as mtransforms\n",
    "trans = mtransforms.blended_transform_factory(ax.transData, ax.transAxes)\n",
    "\n",
    "x = np.arange(0.0, 1, 99999)\n",
    "fig, ax = plt.subplots()\n",
    "\n",
    "ax.fill_betweenx(x, 0, 1, facecolor='green')\n",
    "ax.fill_betweenx(x, 88, 99, facecolor='green')\n",
    "\n",
    "plt.show()"
   ]
  },
  {
   "cell_type": "code",
   "execution_count": 47,
   "metadata": {},
   "outputs": [],
   "source": [
    "from matplotlib.pyplot import figure, show\n",
    "import numpy as np\n",
    "\n",
    "x = np.arange(0, 1.1, 1)\n",
    "y1 = [1,1,1,1,2,2,2,1,1,1,3,3]\n",
    "\n",
    "fig = figure()\n",
    "ax1 = fig.add_subplot(311)\n",
    "for i in range(len(y1)-1):\n",
    "    if y1[i] == 1:\n",
    "        ax1.fill_betweenx(x, i, i+1, color='black')\n",
    "    if y1[i] == 2:\n",
    "        ax1.fill_betweenx(x, i, i+1, color='green')\n",
    "ax1.set_ylabel('(y1, 0)')\n",
    "show()"
   ]
  },
  {
   "cell_type": "code",
   "execution_count": 4,
   "metadata": {},
   "outputs": [],
   "source": [
    "import matplotlib.patches as mpatches\n",
    "import matplotlib.pyplot as plt\n",
    "colors = [\"g\", \"w\"]\n",
    "texts = [\"Green Data Description\", \"RedData Description\"]\n",
    "patches = [ mpatches.Patch(color=colors[i], label=\"{:s}\".format(texts[i]) ) for i in range(len(texts)) ]\n",
    "plt.legend(handles=patches, bbox_to_anchor=(0.5, 0.5), loc='center', ncol=2 )\n",
    "plt.show()"
   ]
  },
  {
   "cell_type": "code",
   "execution_count": 7,
   "metadata": {},
   "outputs": [],
   "source": [
    "from matplotlib.patches import Rectangle\n",
    "import matplotlib.pyplot as plt\n",
    "a1_label = 'record a1'\n",
    "a2_label = 'record a2'\n",
    "\n",
    "p1 = Rectangle((0, 0), 1, 1, fc=\"green\")\n",
    "p2 = Rectangle((0, 0), 1, 1, fc=\"red\")\n",
    "plt.legend([p1, p2], [a1_label, a2_label])\n",
    "plt.show()"
   ]
  }
 ],
 "metadata": {
  "kernelspec": {
   "display_name": "Python 2",
   "language": "python",
   "name": "python2"
  },
  "language_info": {
   "codemirror_mode": {
    "name": "ipython",
    "version": 2
   },
   "file_extension": ".py",
   "mimetype": "text/x-python",
   "name": "python",
   "nbconvert_exporter": "python",
   "pygments_lexer": "ipython2",
   "version": "2.7.6"
  }
 },
 "nbformat": 4,
 "nbformat_minor": 2
}
