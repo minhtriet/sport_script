{
 "cells": [
  {
   "cell_type": "markdown",
   "metadata": {},
   "source": [
    "### Generate data for scnn_localization\n",
    "- Load frames\n",
    "- Check if frames lies in the folder\n",
    "- Compute IOU\n",
    "\n",
    "### Doubt\n",
    "Do I calculate bg, according to the paper no needed on https://arxiv.org/abs/1601.02129 3.1\n"
   ]
  },
  {
   "cell_type": "code",
   "execution_count": 2,
   "metadata": {},
   "outputs": [
    {
     "ename": "IndentationError",
     "evalue": "expected an indented block (<ipython-input-2-2c4b61463f1d>, line 14)",
     "output_type": "error",
     "traceback": [
      "\u001b[0;36m  File \u001b[0;32m\"<ipython-input-2-2c4b61463f1d>\"\u001b[0;36m, line \u001b[0;32m14\u001b[0m\n\u001b[0;31m    # if smallest\u001b[0m\n\u001b[0m                  ^\u001b[0m\n\u001b[0;31mIndentationError\u001b[0m\u001b[0;31m:\u001b[0m expected an indented block\n"
     ]
    }
   ],
   "source": [
    "import os\n",
    "import numpy as np\n",
    "\n",
    "WINDOW_SIZE = 8\n",
    "\n",
    "def check_frame(check_path, solution_path, window_size):\n",
    "    solution_frames = np.array(os.listdir(check_path).sort())\n",
    "    solution_frames = np.array(os.listdir(solution_path).sort())\n",
    "\n",
    "# loop through frames\n",
    "\n",
    "for frame_root, sub_folder, sub_files in os.walk(FRAME_PATH):\n",
    "    \n",
    "# if smallest "
   ]
  },
  {
   "cell_type": "code",
   "execution_count": null,
   "metadata": {},
   "outputs": [],
   "source": [
    "import pdb\n",
    "import os\n",
    "\n",
    "FRAME_PATH = \"/media/data/mtriet/dataset/fb_frames_scnn_localization\"\n",
    "for frame_root, sub_folder, sub_files in os.walk(FRAME_PATH):\n",
    "    pdb.set_trace()\n",
    "    for folder in sub_folder:        \n",
    "        with open('%s.aqt', sub_folder) as f:\n",
    "            os.path.listdir(folder)\n",
    "        "
   ]
  }
 ],
 "metadata": {
  "kernelspec": {
   "display_name": "Python 2",
   "language": "python",
   "name": "python2"
  },
  "language_info": {
   "codemirror_mode": {
    "name": "ipython",
    "version": 2
   },
   "file_extension": ".py",
   "mimetype": "text/x-python",
   "name": "python",
   "nbconvert_exporter": "python",
   "pygments_lexer": "ipython2",
   "version": "2.7.6"
  }
 },
 "nbformat": 4,
 "nbformat_minor": 2
}
